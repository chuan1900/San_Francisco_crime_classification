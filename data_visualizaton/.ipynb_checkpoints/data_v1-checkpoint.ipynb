{
 "cells": [
  {
   "cell_type": "code",
   "execution_count": 3,
   "metadata": {
    "collapsed": true,
    "deletable": true,
    "editable": true
   },
   "outputs": [],
   "source": [
    "import pandas as pd\n",
    "import numpy as np\n",
    "import zipfile\n",
    "import matplotlib.pyplot as pl\n",
    "import seaborn as sns"
   ]
  },
  {
   "cell_type": "code",
   "execution_count": 4,
   "metadata": {
    "collapsed": false,
    "deletable": true,
    "editable": true
   },
   "outputs": [],
   "source": [
    "mapdata = np.loadtxt(\"../input/sf_map_copyright_openstreetmap_contributors.txt\")\n",
    "asp = mapdata.shape[0] * 1.0 / mapdata.shape[1]"
   ]
  },
  {
   "cell_type": "code",
   "execution_count": 8,
   "metadata": {
    "collapsed": true,
    "deletable": true,
    "editable": true
   },
   "outputs": [],
   "source": [
    "lon_lat_box = (-122.5247, -122.3366, 37.699, 37.8299)\n",
    "clipsize = [[-122.5247, -122.3366],[ 37.699, 37.8299]]"
   ]
  },
  {
   "cell_type": "code",
   "execution_count": 9,
   "metadata": {
    "collapsed": false,
    "deletable": true,
    "editable": true
   },
   "outputs": [],
   "source": [
    "z = zipfile.ZipFile('../input/train.csv.zip')\n",
    "train = pd.read_csv(z.open('train.csv'))"
   ]
  },
  {
   "cell_type": "code",
   "execution_count": 27,
   "metadata": {
    "collapsed": true,
    "deletable": true,
    "editable": true
   },
   "outputs": [],
   "source": [
    "train['Xok'] = train[train.X<-121].X\n",
    "train['Yok'] = train[train.Y<40].Y\n",
    "train = train.dropna()\n",
    "trainP = train[train.Category == 'PROSTITUTION'] #Grab the prostitution crimes\n",
    "train = train[1:300000]"
   ]
  },
  {
   "cell_type": "code",
   "execution_count": null,
   "metadata": {
    "collapsed": true
   },
   "outputs": [],
   "source": [
    "# trainList = []\n",
    "# for i in range(2003, 2016):\n",
    "#     trainList.append(trainP[trainP.Dates.dt.year == i])"
   ]
  },
  {
   "cell_type": "code",
   "execution_count": 52,
   "metadata": {
    "collapsed": true,
    "deletable": true,
    "editable": true
   },
   "outputs": [],
   "source": [
    "#g= sns.FacetGrid(train, col=\"Category\", col_wrap=6, size=5, aspect=1/asp)\n"
   ]
  },
  {
   "cell_type": "code",
   "execution_count": 53,
   "metadata": {
    "collapsed": false,
    "deletable": true,
    "editable": true
   },
   "outputs": [],
   "source": [
    "#Do a larger plot with prostitution only\n",
    "ax = pl.hexbin(trainP.Xok, trainP.Yok, cmap='inferno',alpha = 0.4,\n",
    "                  bins=5,\n",
    "                  mincnt=1)\n",
    "ax = sns.kdeplot(trainP.Xok, trainP.Yok, clip=clipsize, aspect=1/asp)\n",
    "ax.imshow(mapdata, cmap=pl.get_cmap('gray'),\n",
    "              extent=lon_lat_box, aspect=asp)\n",
    "pl.savefig('temp_density_plot.png')\n",
    "pl.cla()"
   ]
  },
  {
   "cell_type": "code",
   "execution_count": null,
   "metadata": {
    "collapsed": true,
    "deletable": true,
    "editable": true
   },
   "outputs": [],
   "source": []
  }
 ],
 "metadata": {
  "kernelspec": {
   "display_name": "Python 3",
   "language": "python",
   "name": "python3"
  },
  "language_info": {
   "codemirror_mode": {
    "name": "ipython",
    "version": 3
   },
   "file_extension": ".py",
   "mimetype": "text/x-python",
   "name": "python",
   "nbconvert_exporter": "python",
   "pygments_lexer": "ipython3",
   "version": "3.4.4"
  }
 },
 "nbformat": 4,
 "nbformat_minor": 2
}
